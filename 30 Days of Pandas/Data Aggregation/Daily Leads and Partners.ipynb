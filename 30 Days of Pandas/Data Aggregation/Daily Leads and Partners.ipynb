{
 "cells": [
  {
   "cell_type": "code",
   "execution_count": null,
   "metadata": {},
   "outputs": [],
   "source": [
    "import pandas as pd\n",
    "\n",
    "def daily_leads_and_partners(daily_sales: pd.DataFrame) -> pd.DataFrame:\n",
    "    # Group the daily sales by date_id and make_name, and count distinct lead_id's and partner_id's\n",
    "    grouped = daily_sales.groupby(['date_id', 'make_name']).agg({'lead_id': 'nunique', 'partner_id': 'nunique'}).reset_index()\n",
    "    \n",
    "    # Rename the columns for clarity\n",
    "    grouped.columns = ['date_id', 'make_name', 'unique_leads', 'unique_partners']\n",
    "    \n",
    "    return grouped"
   ]
  }
 ],
 "metadata": {
  "language_info": {
   "name": "python"
  },
  "orig_nbformat": 4
 },
 "nbformat": 4,
 "nbformat_minor": 2
}
