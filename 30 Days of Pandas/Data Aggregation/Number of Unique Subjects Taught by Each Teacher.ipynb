{
 "cells": [
  {
   "cell_type": "code",
   "execution_count": null,
   "metadata": {},
   "outputs": [],
   "source": [
    "import pandas as pd\n",
    "\n",
    "def count_unique_subjects(teacher: pd.DataFrame) -> pd.DataFrame:\n",
    "    # Group by teacher_id and count the number of unique subject_ids\n",
    "    result = teacher.groupby('teacher_id')['subject_id'].nunique().reset_index()\n",
    "    result.rename(columns={'subject_id': 'cnt'}, inplace=True)\n",
    "    \n",
    "    return result"
   ]
  }
 ],
 "metadata": {
  "language_info": {
   "name": "python"
  },
  "orig_nbformat": 4
 },
 "nbformat": 4,
 "nbformat_minor": 2
}
