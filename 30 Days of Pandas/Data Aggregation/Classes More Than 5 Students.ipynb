{
 "cells": [
  {
   "cell_type": "code",
   "execution_count": null,
   "metadata": {},
   "outputs": [],
   "source": [
    "import pandas as pd\n",
    "\n",
    "def find_classes(courses: pd.DataFrame) -> pd.DataFrame:\n",
    "    # Group by class and count the number of students in each class\n",
    "    class_counts = courses.groupby('class')['student'].count().reset_index()\n",
    "    \n",
    "    # Filter classes with at least five students\n",
    "    result = class_counts[class_counts['student'] >= 5][[\"class\"]]\n",
    "    \n",
    "    return result"
   ]
  }
 ],
 "metadata": {
  "language_info": {
   "name": "python"
  },
  "orig_nbformat": 4
 },
 "nbformat": 4,
 "nbformat_minor": 2
}
