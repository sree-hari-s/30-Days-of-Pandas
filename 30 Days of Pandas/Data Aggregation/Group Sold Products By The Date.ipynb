{
 "cells": [
  {
   "cell_type": "code",
   "execution_count": null,
   "metadata": {},
   "outputs": [],
   "source": [
    "import pandas as pd\n",
    "\n",
    "def categorize_products(activities: pd.DataFrame) -> pd.DataFrame:\n",
    "    return activities.groupby(\n",
    "        'sell_date'\n",
    "    )['product'].agg([\n",
    "        ('num_sold', 'nunique'),\n",
    "        ('products', lambda x: ','.join(sorted(x.unique())))\n",
    "    ]).reset_index()"
   ]
  }
 ],
 "metadata": {
  "language_info": {
   "name": "python"
  },
  "orig_nbformat": 4
 },
 "nbformat": 4,
 "nbformat_minor": 2
}
