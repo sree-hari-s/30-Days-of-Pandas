{
 "cells": [
  {
   "cell_type": "code",
   "execution_count": null,
   "metadata": {},
   "outputs": [],
   "source": [
    "import pandas as pd\n",
    "\n",
    "def game_analysis(activity: pd.DataFrame) -> pd.DataFrame:\n",
    "    # Sort the DataFrame by player_id and event_date\n",
    "    activity = activity.sort_values(by=['player_id', 'event_date'])\n",
    "    \n",
    "    # Group by player_id and select the minimum event_date for each player\n",
    "    result = activity.groupby('player_id')['event_date'].min().reset_index()\n",
    "    result.rename(columns={'event_date': 'first_login'}, inplace=True)\n",
    "    \n",
    "    return result\n"
   ]
  }
 ],
 "metadata": {
  "language_info": {
   "name": "python"
  },
  "orig_nbformat": 4
 },
 "nbformat": 4,
 "nbformat_minor": 2
}
