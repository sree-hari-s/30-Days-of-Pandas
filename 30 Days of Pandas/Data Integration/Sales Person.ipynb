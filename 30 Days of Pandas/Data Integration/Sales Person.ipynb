{
 "cells": [
  {
   "cell_type": "code",
   "execution_count": null,
   "metadata": {},
   "outputs": [],
   "source": [
    "import pandas as pd\n",
    "\n",
    "def sales_person(sales_person: pd.DataFrame, company: pd.DataFrame, orders: pd.DataFrame) -> pd.DataFrame:\n",
    "     # Merge DataFrames to find salespersons with orders related to \"RED\" companies\n",
    "    merged_df = pd.merge(orders, company, on='com_id', how='inner')\n",
    "    red_sales_ids = merged_df[merged_df['name'] == 'RED']['sales_id'].unique()\n",
    "    \n",
    "    # Filter salespersons who do not have orders related to \"RED\" companies\n",
    "    result_df = sales_person[~sales_person['sales_id'].isin(red_sales_ids)][['name']]\n",
    "    return result_df"
   ]
  }
 ],
 "metadata": {
  "language_info": {
   "name": "python"
  },
  "orig_nbformat": 4
 },
 "nbformat": 4,
 "nbformat_minor": 2
}
