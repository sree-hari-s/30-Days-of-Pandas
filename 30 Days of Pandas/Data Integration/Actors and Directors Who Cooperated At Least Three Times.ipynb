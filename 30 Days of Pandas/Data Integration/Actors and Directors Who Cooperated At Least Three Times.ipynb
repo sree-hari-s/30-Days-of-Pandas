{
 "cells": [
  {
   "cell_type": "code",
   "execution_count": null,
   "metadata": {},
   "outputs": [],
   "source": [
    "import pandas as pd\n",
    "\n",
    "def actors_and_directors(actor_director: pd.DataFrame) -> pd.DataFrame:\n",
    "    # Group the data by actor_id and director_id, and count the number of cooperations\n",
    "    grouped = actor_director.groupby(['actor_id', 'director_id']).size().reset_index(name='cooperation_count')\n",
    "    \n",
    "    # Filter the pairs where the cooperation count is at least three\n",
    "    filtered_pairs = grouped[grouped['cooperation_count'] >= 3]\n",
    "    \n",
    "    return filtered_pairs[['actor_id', 'director_id']]"
   ]
  }
 ],
 "metadata": {
  "language_info": {
   "name": "python"
  },
  "orig_nbformat": 4
 },
 "nbformat": 4,
 "nbformat_minor": 2
}
