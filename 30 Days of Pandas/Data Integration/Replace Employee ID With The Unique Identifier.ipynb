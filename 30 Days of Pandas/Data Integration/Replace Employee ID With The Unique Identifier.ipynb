{
 "cells": [
  {
   "cell_type": "code",
   "execution_count": null,
   "metadata": {},
   "outputs": [],
   "source": [
    "import pandas as pd\n",
    "\n",
    "def replace_employee_id(employees: pd.DataFrame, employee_uni: pd.DataFrame) -> pd.DataFrame:\n",
    "    # Merge the two tables on the 'id' column using a left join\n",
    "    merged = employees.merge(employee_uni, on='id', how='left')\n",
    "    \n",
    "    # Return the result table with the 'unique_id' column\n",
    "    result = merged[['unique_id','name']]\n",
    "    \n",
    "    return result"
   ]
  }
 ],
 "metadata": {
  "language_info": {
   "name": "python"
  },
  "orig_nbformat": 4
 },
 "nbformat": 4,
 "nbformat_minor": 2
}
