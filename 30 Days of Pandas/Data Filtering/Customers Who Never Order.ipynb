{
 "cells": [
  {
   "cell_type": "code",
   "execution_count": null,
   "metadata": {},
   "outputs": [],
   "source": [
    "import pandas as pd\n",
    "\n",
    "def find_customers(customers: pd.DataFrame, orders: pd.DataFrame) -> pd.DataFrame:\n",
    "    # Select the customers whose 'id' is not present in the orders DataFrame's 'customerId' column.\n",
    "    df = customers[~customers['id'].isin(orders['customerId'])]\n",
    "\n",
    "    # Build a DataFrame that only contains the 'name' column and rename it as 'Customers'.\n",
    "    df = df[['name']].rename(columns={'name': 'Customers'})\n",
    "\n",
    "    return df"
   ]
  }
 ],
 "metadata": {
  "language_info": {
   "name": "python"
  },
  "orig_nbformat": 4
 },
 "nbformat": 4,
 "nbformat_minor": 2
}
