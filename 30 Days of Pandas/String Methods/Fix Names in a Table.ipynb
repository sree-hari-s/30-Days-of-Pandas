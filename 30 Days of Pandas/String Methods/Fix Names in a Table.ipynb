{
 "cells": [
  {
   "cell_type": "code",
   "execution_count": null,
   "metadata": {},
   "outputs": [],
   "source": [
    "import pandas as pd\n",
    "\n",
    "def fix_names(users: pd.DataFrame) -> pd.DataFrame:\n",
    "    # Apply the str.capitalize() function to fix the names\n",
    "    users.name = users.name.str.capitalize()\n",
    "    # Sort the result table by user_id in ascending order\n",
    "    result_df = users.sort_values(by='user_id')\n",
    "    return result_df"
   ]
  }
 ],
 "metadata": {
  "language_info": {
   "name": "python"
  },
  "orig_nbformat": 4
 },
 "nbformat": 4,
 "nbformat_minor": 2
}
