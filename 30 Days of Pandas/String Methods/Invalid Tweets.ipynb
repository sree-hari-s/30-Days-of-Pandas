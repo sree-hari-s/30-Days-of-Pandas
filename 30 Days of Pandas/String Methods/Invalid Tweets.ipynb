{
 "cells": [
  {
   "cell_type": "code",
   "execution_count": null,
   "metadata": {},
   "outputs": [],
   "source": [
    "import pandas as pd\n",
    "\n",
    "def invalid_tweets(tweets: pd.DataFrame) -> pd.DataFrame:\n",
    "    # Filter rows where the length of 'content' is strictly greater than 15\n",
    "    invalid_tweets_df = tweets[tweets['content'].str.len() > 15]\n",
    "    \n",
    "    # Select only the 'tweet_id' column from the invalid tweets DataFrame\n",
    "    result_df = invalid_tweets_df[['tweet_id']]\n",
    "    \n",
    "    return result_df"
   ]
  }
 ],
 "metadata": {
  "language_info": {
   "name": "python"
  },
  "orig_nbformat": 4
 },
 "nbformat": 4,
 "nbformat_minor": 2
}
