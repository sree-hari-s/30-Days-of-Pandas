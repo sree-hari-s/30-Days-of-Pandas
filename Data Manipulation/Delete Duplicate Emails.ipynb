{
 "cells": [
  {
   "cell_type": "code",
   "execution_count": null,
   "metadata": {},
   "outputs": [],
   "source": [
    "import pandas as pd\n",
    "\n",
    "# Modify Person in place\n",
    "def delete_duplicate_emails(person: pd.DataFrame) -> None:\n",
    "    # Sort the rows based on id (Ascending order)\n",
    "    person.sort_values(by='id',ascending=True,inplace=True)\n",
    "    # Drop the duplicates based on email.\n",
    "    person.drop_duplicates(subset='email', keep='first', inplace=True)"
   ]
  }
 ],
 "metadata": {
  "language_info": {
   "name": "python"
  },
  "orig_nbformat": 4
 },
 "nbformat": 4,
 "nbformat_minor": 2
}
