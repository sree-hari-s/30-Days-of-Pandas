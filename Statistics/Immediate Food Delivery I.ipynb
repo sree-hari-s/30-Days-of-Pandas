{
 "cells": [
  {
   "cell_type": "code",
   "execution_count": null,
   "metadata": {},
   "outputs": [],
   "source": [
    "import pandas as pd\n",
    "\n",
    "def food_delivery(delivery: pd.DataFrame) -> pd.DataFrame:\n",
    "    # Calculate the count of immediate orders\n",
    "    immediate_count = delivery[delivery['order_date'] == delivery['customer_pref_delivery_date']].shape[0]\n",
    "    \n",
    "    # Calculate the total count of orders\n",
    "    total_orders = delivery.shape[0]\n",
    "    \n",
    "    # Calculate the percentage of immediate orders\n",
    "    immediate_percentage = (immediate_count / total_orders) * 100\n",
    "    \n",
    "    # Create a DataFrame to store the result\n",
    "    result_df = pd.DataFrame({'immediate_percentage': [round(immediate_percentage, 2)]})\n",
    "    \n",
    "    return result_df"
   ]
  }
 ],
 "metadata": {
  "language_info": {
   "name": "python"
  },
  "orig_nbformat": 4
 },
 "nbformat": 4,
 "nbformat_minor": 2
}
