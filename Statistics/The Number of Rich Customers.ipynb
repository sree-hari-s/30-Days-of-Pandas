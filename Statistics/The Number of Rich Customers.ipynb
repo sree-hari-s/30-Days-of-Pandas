{
 "cells": [
  {
   "cell_type": "code",
   "execution_count": null,
   "metadata": {},
   "outputs": [],
   "source": [
    "import pandas as pd\n",
    "\n",
    "def count_rich_customers(store: pd.DataFrame) -> pd.DataFrame:\n",
    "    return pd.DataFrame(\n",
    "        store[store['amount'] > 500][['customer_id']].nunique(),\n",
    "        columns=['rich_count'],\n",
    "    )"
   ]
  }
 ],
 "metadata": {
  "language_info": {
   "name": "python"
  },
  "orig_nbformat": 4
 },
 "nbformat": 4,
 "nbformat_minor": 2
}
