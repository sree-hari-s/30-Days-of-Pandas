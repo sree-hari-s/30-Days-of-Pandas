{
 "cells": [
  {
   "cell_type": "code",
   "execution_count": null,
   "metadata": {},
   "outputs": [],
   "source": [
    "import pandas as pd\n",
    "\n",
    "def article_views(views: pd.DataFrame) -> pd.DataFrame:\n",
    "    # Filter rows where author_id and viewer_id are the same (authors viewing their own articles)\n",
    "    authors_viewed_own_articles = views[views['author_id'] == views['viewer_id']]\n",
    "    \n",
    "    # Get unique author_ids from the filtered data\n",
    "    unique_authors = authors_viewed_own_articles['author_id'].unique()\n",
    "    \n",
    "    # Sort the unique author_ids in ascending order\n",
    "    unique_authors = sorted(unique_authors)\n",
    "    \n",
    "    # Create a DataFrame with the sorted unique author_ids and rename the 'author_id' column to 'id'\n",
    "    result_df = pd.DataFrame({'id': unique_authors})\n",
    "    \n",
    "    return result_df"
   ]
  }
 ],
 "metadata": {
  "language_info": {
   "name": "python"
  },
  "orig_nbformat": 4
 },
 "nbformat": 4,
 "nbformat_minor": 2
}
