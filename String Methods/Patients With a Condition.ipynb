{
 "cells": [
  {
   "cell_type": "code",
   "execution_count": null,
   "metadata": {},
   "outputs": [],
   "source": [
    "import pandas as pd\n",
    "\n",
    "def find_patients(patients: pd.DataFrame) -> pd.DataFrame:\n",
    "    # Use the str.contains() method to find patients with Type I Diabetes\n",
    "    patients_with_diabetes = patients[patients['conditions'].str.contains(r'\\bDIAB1')]\n",
    "    \n",
    "    # Select only the required columns\n",
    "    result_df = patients_with_diabetes[['patient_id', 'patient_name', 'conditions']]\n",
    "    \n",
    "    return result_df"
   ]
  }
 ],
 "metadata": {
  "language_info": {
   "name": "python"
  },
  "orig_nbformat": 4
 },
 "nbformat": 4,
 "nbformat_minor": 2
}
