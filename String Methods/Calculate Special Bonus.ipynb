{
 "cells": [
  {
   "cell_type": "code",
   "execution_count": null,
   "metadata": {},
   "outputs": [],
   "source": [
    "import pandas as pd\n",
    "\n",
    "def calculate_special_bonus(employees: pd.DataFrame) -> pd.DataFrame:\n",
    "    # Create a new column 'bonus' with default value 0\n",
    "    employees['bonus'] = 0\n",
    "    \n",
    "    # Calculate bonus based on the conditions\n",
    "    employees.loc[(employees['employee_id'] % 2 != 0) & (~employees['name'].str.startswith('M')), 'bonus'] = employees['salary']\n",
    "    \n",
    "    # Select only the required columns and sort the result table by employee_id in ascending order\n",
    "    result_df = employees[['employee_id', 'bonus']].sort_values(by='employee_id', ascending=True)\n",
    "    \n",
    "    return result_df"
   ]
  }
 ],
 "metadata": {
  "language_info": {
   "name": "python"
  },
  "orig_nbformat": 4
 },
 "nbformat": 4,
 "nbformat_minor": 2
}
