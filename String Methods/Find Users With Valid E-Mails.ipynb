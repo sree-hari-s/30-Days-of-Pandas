{
 "cells": [
  {
   "cell_type": "code",
   "execution_count": null,
   "metadata": {},
   "outputs": [],
   "source": [
    "import pandas as pd\n",
    "\n",
    "def valid_emails(users: pd.DataFrame) -> pd.DataFrame:\n",
    "    # Use the str.match() method with a regex pattern to find valid emails\n",
    "    valid_emails_df = users[users['mail'].str.match(r'^[A-Za-z][A-Za-z0-9_\\.\\-]*@leetcode(\\?com)?\\.com$')]\n",
    "    \n",
    "    return valid_emails_df"
   ]
  }
 ],
 "metadata": {
  "language_info": {
   "name": "python"
  },
  "orig_nbformat": 4
 },
 "nbformat": 4,
 "nbformat_minor": 2
}
