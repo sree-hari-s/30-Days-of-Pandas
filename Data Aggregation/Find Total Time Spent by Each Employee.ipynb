{
 "cells": [
  {
   "cell_type": "code",
   "execution_count": null,
   "metadata": {},
   "outputs": [],
   "source": [
    "import pandas as pd\n",
    "\n",
    "def total_time(employees: pd.DataFrame) -> pd.DataFrame:\n",
    "    # Calculate the time spent for each entry\n",
    "    employees['time_spent'] = employees['out_time'] - employees['in_time']\n",
    "    \n",
    "    # Group by emp_id and event_day, then sum the time_spent\n",
    "    result = employees.groupby(['emp_id', 'event_day'])['time_spent'].sum().reset_index()\n",
    "    result.rename(columns={'event_day': 'day', 'time_spent': 'total_time'}, inplace=True)\n",
    "    \n",
    "    return result"
   ]
  }
 ],
 "metadata": {
  "language_info": {
   "name": "python"
  },
  "orig_nbformat": 4
 },
 "nbformat": 4,
 "nbformat_minor": 2
}
