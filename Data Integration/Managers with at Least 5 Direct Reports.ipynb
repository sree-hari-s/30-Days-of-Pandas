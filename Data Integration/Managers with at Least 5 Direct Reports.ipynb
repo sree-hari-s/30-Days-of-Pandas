{
 "cells": [
  {
   "cell_type": "code",
   "execution_count": null,
   "metadata": {},
   "outputs": [],
   "source": [
    "import pandas as pd\n",
    "\n",
    "def find_managers(employee: pd.DataFrame) -> pd.DataFrame:\n",
    "    # Group the employees by managerId and count the number of direct reports\n",
    "    manager_report_count = employee.groupby('managerId').size().reset_index(name='directReports')\n",
    "    \n",
    "    # Filter managers with at least five direct reports\n",
    "    result = manager_report_count[manager_report_count['directReports'] >= 5]\n",
    "    \n",
    "    # Merge with the Employee table to get the names of these managers\n",
    "    result = result.merge(employee[['id', 'name']], left_on='managerId', right_on='id', how='inner')\n",
    "    \n",
    "    # Select only the 'name' column and drop the 'id' and 'directReports' columns\n",
    "    result = result[['name']]\n",
    "    \n",
    "    return result"
   ]
  }
 ],
 "metadata": {
  "language_info": {
   "name": "python"
  },
  "orig_nbformat": 4
 },
 "nbformat": 4,
 "nbformat_minor": 2
}
