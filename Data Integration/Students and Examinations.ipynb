{
 "cells": [
  {
   "cell_type": "code",
   "execution_count": 1,
   "metadata": {},
   "outputs": [],
   "source": [
    "import pandas as pd\n",
    "\n",
    "def students_and_examinations(students: pd.DataFrame, subjects: pd.DataFrame, examinations: pd.DataFrame) -> pd.DataFrame:\n",
    "    #Exam Count\n",
    "    examination_count = examinations.groupby(['student_id','subject_name']).size().reset_index(name='attended_exams')\n",
    "    # Perform a Cartesian product (CROSS JOIN) between students and subjects\n",
    "    student_doc = pd.merge(students,subjects,how='cross')\n",
    "    # Perform a LEFT JOIN between Cartesian product \n",
    "    result_df = student_doc.merge(examination_count, how='left', on=['student_id','subject_name'])\\\n",
    "                .fillna(0) \\\n",
    "                .sort_values(by=['student_id', 'subject_name'])\n",
    "    \n",
    "    return result_df[['student_id', 'student_name', 'subject_name', 'attended_exams']]"
   ]
  }
 ],
 "metadata": {
  "kernelspec": {
   "display_name": "base",
   "language": "python",
   "name": "python3"
  },
  "language_info": {
   "codemirror_mode": {
    "name": "ipython",
    "version": 3
   },
   "file_extension": ".py",
   "mimetype": "text/x-python",
   "name": "python",
   "nbconvert_exporter": "python",
   "pygments_lexer": "ipython3",
   "version": "3.9.13"
  },
  "orig_nbformat": 4
 },
 "nbformat": 4,
 "nbformat_minor": 2
}
